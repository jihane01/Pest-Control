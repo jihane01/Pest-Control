{
 "cells": [
  {
   "cell_type": "markdown",
   "metadata": {},
   "source": [
    "\"\"\"\"Objectif\"\"\""
   ]
  },
  {
   "cell_type": "code",
   "execution_count": 1,
   "metadata": {},
   "outputs": [
    {
     "name": "stderr",
     "output_type": "stream",
     "text": [
      "2024-10-15 14:24:44.647037: I tensorflow/core/platform/cpu_feature_guard.cc:182] This TensorFlow binary is optimized to use available CPU instructions in performance-critical operations.\n",
      "To enable the following instructions: SSE4.1 SSE4.2 AVX AVX2 FMA, in other operations, rebuild TensorFlow with the appropriate compiler flags.\n"
     ]
    }
   ],
   "source": [
    "import numpy as np\n",
    "import random\n",
    "import pandas as pd\n",
    "#data Extraction\n",
    "import zipfile\n",
    "#data loading\n",
    "import os\n",
    "#data visualization\n",
    "import matplotlib.pyplot as plt\n",
    "import seaborn as sns\n",
    "import tensorflow as tf\n",
    "from tensorflow import keras\n",
    "from tensorflow.keras.preprocessing.image import load_img\n",
    "from sklearn.model_selection import train_test_split\n",
    "from tensorflow.keras.layers.experimental.preprocessing import RandomZoom,RandomFlip ,RandomRotation,RandomContrast\n",
    "from tensorflow.keras.models import Sequential\n",
    "#Import Core Keras layers for building nueral network\n",
    "from tensorflow.keras import layers,models\n",
    "#import for genearting augmented data from images\n",
    "from tensorflow.keras.preprocessing.image import ImageDataGenerator\n",
    "#import for adding dense layers to the neural network\n",
    "from tensorflow.keras.layers import Dense,Dropout\n",
    "#Import for specifing callbacks during model training (early stoping)\n",
    "from tensorflow.keras.callbacks import Callback,EarlyStopping,ModelCheckpoint\n",
    "#IMport for specifing the optimzer used during model training (eg .adam)\n",
    "from tensorflow.keras.optimizers import Adam\n",
    "#import for pre-trained neural network architechture\n",
    "from tensorflow.keras.applications import MobileNetV2,vgg16\n",
    "#import for creating custom data preprocessing layers \n",
    "from tensorflow.keras import models\n",
    "from tensorflow.keras.layers.experimental import preprocessing\n"
   ]
  },
  {
   "cell_type": "code",
   "execution_count": 2,
   "metadata": {},
   "outputs": [],
   "source": [
    "DATH_PATH = \"/home/jihane01/Documents/Precision-Pest-Control-/agricultural-pests-image-dataset\""
   ]
  },
  {
   "cell_type": "code",
   "execution_count": 3,
   "metadata": {},
   "outputs": [],
   "source": [
    "#SETTING SEEDS\n",
    "#SET Seed to ensure that if we run this again we got the same result\n",
    "def seed_everything(seed = 42):\n",
    "    \"\"\" This function ensure that all libraires random process produce reproducible result\n",
    "    \"\"\"\n",
    "    #seed value for Tensorflow\n",
    "    tf.random.seed(seed)\n",
    "    \n",
    "    #seed value for numpy\n",
    "    np.random.seed(seed)\n",
    "    #seed value python random\n",
    "    random.seed(seed)\n",
    "    \n",
    "    #force Tensorflow to use a single threds ,multiple  therds are potontianale for non reprudicible result\n",
    "    session_comf = tf.compat.v1.ConfigProto(\n",
    "        intra_op_parallelism_threads=1,\n",
    "        inter_op_parallelism_threads=1,\n",
    "    )\n",
    "    #make sure tf use a determinstic operation whenver possible\n",
    "    tf.compat.v1.set_random_seed(seed)\n",
    "    \n",
    "    sess = tf.compat.v1,Session(graph = tf.compat.v1.ghet_default_graph(),config = session_comf)\n",
    "    tf.compat.v1.keras.backend.set_session(sess)\n",
    "\n"
   ]
  },
  {
   "cell_type": "code",
   "execution_count": null,
   "metadata": {},
   "outputs": [],
   "source": []
  },
  {
   "cell_type": "code",
   "execution_count": 4,
   "metadata": {},
   "outputs": [],
   "source": [
    "images_path = []\n",
    "labels = []\n",
    "\n",
    "for folder_names in os.listdir(DATH_PATH):\n",
    "    folder_path = os.path.join(DATH_PATH ,folder_names)\n",
    "    if os.path.isdir(folder_path):\n",
    "        images = [img for img in os.listdir(folder_path) if img.lower().endswith((\".jpg\", \".png\", \".jpeg\"))]\n",
    "        \n",
    "        for images_names in images:\n",
    "            image_path = os.path.join(folder_path,images_names)\n",
    "            images_path.append(image_path)\n",
    "            labels.append(folder_names)\n",
    "\n",
    "\n",
    "data = {\n",
    "    'images_path': images_path,\n",
    "    'labels' : labels,\n",
    "}\n",
    "\n",
    "df =pd.DataFrame(data)"
   ]
  },
  {
   "cell_type": "code",
   "execution_count": 5,
   "metadata": {},
   "outputs": [
    {
     "data": {
      "text/html": [
       "<div>\n",
       "<style scoped>\n",
       "    .dataframe tbody tr th:only-of-type {\n",
       "        vertical-align: middle;\n",
       "    }\n",
       "\n",
       "    .dataframe tbody tr th {\n",
       "        vertical-align: top;\n",
       "    }\n",
       "\n",
       "    .dataframe thead th {\n",
       "        text-align: right;\n",
       "    }\n",
       "</style>\n",
       "<table border=\"1\" class=\"dataframe\">\n",
       "  <thead>\n",
       "    <tr style=\"text-align: right;\">\n",
       "      <th></th>\n",
       "      <th>images_path</th>\n",
       "      <th>labels</th>\n",
       "    </tr>\n",
       "  </thead>\n",
       "  <tbody>\n",
       "    <tr>\n",
       "      <th>0</th>\n",
       "      <td>/home/jihane01/Documents/Precision-Pest-Contro...</td>\n",
       "      <td>bees</td>\n",
       "    </tr>\n",
       "    <tr>\n",
       "      <th>1</th>\n",
       "      <td>/home/jihane01/Documents/Precision-Pest-Contro...</td>\n",
       "      <td>bees</td>\n",
       "    </tr>\n",
       "    <tr>\n",
       "      <th>2</th>\n",
       "      <td>/home/jihane01/Documents/Precision-Pest-Contro...</td>\n",
       "      <td>bees</td>\n",
       "    </tr>\n",
       "    <tr>\n",
       "      <th>3</th>\n",
       "      <td>/home/jihane01/Documents/Precision-Pest-Contro...</td>\n",
       "      <td>bees</td>\n",
       "    </tr>\n",
       "    <tr>\n",
       "      <th>4</th>\n",
       "      <td>/home/jihane01/Documents/Precision-Pest-Contro...</td>\n",
       "      <td>bees</td>\n",
       "    </tr>\n",
       "    <tr>\n",
       "      <th>...</th>\n",
       "      <td>...</td>\n",
       "      <td>...</td>\n",
       "    </tr>\n",
       "    <tr>\n",
       "      <th>5489</th>\n",
       "      <td>/home/jihane01/Documents/Precision-Pest-Contro...</td>\n",
       "      <td>catterpillar</td>\n",
       "    </tr>\n",
       "    <tr>\n",
       "      <th>5490</th>\n",
       "      <td>/home/jihane01/Documents/Precision-Pest-Contro...</td>\n",
       "      <td>catterpillar</td>\n",
       "    </tr>\n",
       "    <tr>\n",
       "      <th>5491</th>\n",
       "      <td>/home/jihane01/Documents/Precision-Pest-Contro...</td>\n",
       "      <td>catterpillar</td>\n",
       "    </tr>\n",
       "    <tr>\n",
       "      <th>5492</th>\n",
       "      <td>/home/jihane01/Documents/Precision-Pest-Contro...</td>\n",
       "      <td>catterpillar</td>\n",
       "    </tr>\n",
       "    <tr>\n",
       "      <th>5493</th>\n",
       "      <td>/home/jihane01/Documents/Precision-Pest-Contro...</td>\n",
       "      <td>catterpillar</td>\n",
       "    </tr>\n",
       "  </tbody>\n",
       "</table>\n",
       "<p>5494 rows × 2 columns</p>\n",
       "</div>"
      ],
      "text/plain": [
       "                                            images_path        labels\n",
       "0     /home/jihane01/Documents/Precision-Pest-Contro...          bees\n",
       "1     /home/jihane01/Documents/Precision-Pest-Contro...          bees\n",
       "2     /home/jihane01/Documents/Precision-Pest-Contro...          bees\n",
       "3     /home/jihane01/Documents/Precision-Pest-Contro...          bees\n",
       "4     /home/jihane01/Documents/Precision-Pest-Contro...          bees\n",
       "...                                                 ...           ...\n",
       "5489  /home/jihane01/Documents/Precision-Pest-Contro...  catterpillar\n",
       "5490  /home/jihane01/Documents/Precision-Pest-Contro...  catterpillar\n",
       "5491  /home/jihane01/Documents/Precision-Pest-Contro...  catterpillar\n",
       "5492  /home/jihane01/Documents/Precision-Pest-Contro...  catterpillar\n",
       "5493  /home/jihane01/Documents/Precision-Pest-Contro...  catterpillar\n",
       "\n",
       "[5494 rows x 2 columns]"
      ]
     },
     "execution_count": 5,
     "metadata": {},
     "output_type": "execute_result"
    }
   ],
   "source": [
    "df"
   ]
  },
  {
   "cell_type": "code",
   "execution_count": 6,
   "metadata": {},
   "outputs": [],
   "source": [
    "key = os.listdir(DATH_PATH)"
   ]
  },
  {
   "cell_type": "code",
   "execution_count": null,
   "metadata": {},
   "outputs": [],
   "source": []
  }
 ],
 "metadata": {
  "kernelspec": {
   "display_name": "Python 3 (ipykernel)",
   "language": "python",
   "name": "python3"
  },
  "language_info": {
   "codemirror_mode": {
    "name": "ipython",
    "version": 3
   },
   "file_extension": ".py",
   "mimetype": "text/x-python",
   "name": "python",
   "nbconvert_exporter": "python",
   "pygments_lexer": "ipython3",
   "version": "3.11.5"
  }
 },
 "nbformat": 4,
 "nbformat_minor": 4
}
